{
 "cells": [
  {
   "cell_type": "code",
   "execution_count": 1,
   "metadata": {
    "collapsed": true
   },
   "outputs": [],
   "source": [
    "from time import sleep\n",
    "from bs4 import BeautifulSoup\n",
    "import requests"
   ]
  },
  {
   "cell_type": "code",
   "execution_count": 4,
   "metadata": {
    "collapsed": false
   },
   "outputs": [],
   "source": [
    "def get_wsj_articles(year, month, day):\n",
    "    headlines = []\n",
    "    url = 'http://www.wsj.com/public/page/archive-' + str(year) + '-' + str(month) + '-' + str(day) + '.html'\n",
    "    sleep(0.1)\n",
    "    soup = BeautifulSoup(requests.get(url).text, 'html5lib')\n",
    "    articles = soup.findAll('h2')\n",
    "    for article in articles:\n",
    "        headlines.append(article.text)\n",
    "    return headlines"
   ]
  },
  {
   "cell_type": "code",
   "execution_count": 6,
   "metadata": {
    "collapsed": true
   },
   "outputs": [],
   "source": [
    "years = [2016, 2015, 2014, 2013]\n",
    "months = range(1,13)\n",
    "days = [range(1,32), range(1,29), range(1,32), range(1,31), range(1,32), range(1,31), range(1,32), range(1,32), range(1,31), range(1,32), range(1,31), range(1,32)]\n",
    "d = dict(zip(months, days))"
   ]
  },
  {
   "cell_type": "code",
   "execution_count": 7,
   "metadata": {
    "collapsed": true
   },
   "outputs": [],
   "source": [
    "headlines_wsj_2015 = []\n",
    "for k,v in d.items():\n",
    "    for i in range(len(v)):\n",
    "        headlines_wsj_2015.extend(get_wsj_articles(2015, k, v[i]))"
   ]
  },
  {
   "cell_type": "code",
   "execution_count": 8,
   "metadata": {
    "collapsed": false
   },
   "outputs": [
    {
     "data": {
      "text/plain": [
       "67025"
      ]
     },
     "execution_count": 8,
     "metadata": {},
     "output_type": "execute_result"
    }
   ],
   "source": [
    "len(headlines_wsj_2015)"
   ]
  },
  {
   "cell_type": "code",
   "execution_count": null,
   "metadata": {
    "collapsed": false
   },
   "outputs": [],
   "source": [
    "headlines_wsj_2015"
   ]
  },
  {
   "cell_type": "code",
   "execution_count": 14,
   "metadata": {
    "collapsed": false
   },
   "outputs": [],
   "source": [
    "headlines_wsj_2016 = []\n",
    "days_2016 = [range(1,32), range(1,30), range(1,32), range(1,31), range(1,32), range(1,31), range(1,32), range(1,32), range(1,31), range(1,32), range(1,29)]\n",
    "d_2016 = dict(zip(months[:11], days_2016))\n",
    "for k,v in d_2016.items():\n",
    "    for i in range(len(v)):\n",
    "        headlines_wsj_2016.extend(get_wsj_articles(2016, k, v[i]))"
   ]
  },
  {
   "cell_type": "code",
   "execution_count": 15,
   "metadata": {
    "collapsed": true
   },
   "outputs": [],
   "source": [
    "import pickle"
   ]
  },
  {
   "cell_type": "code",
   "execution_count": 16,
   "metadata": {
    "collapsed": true
   },
   "outputs": [],
   "source": [
    "with open('headlines_wsj_2015.pickle', 'wb') as handle:\n",
    "    pickle.dump(headlines_wsj_2015, handle)"
   ]
  },
  {
   "cell_type": "code",
   "execution_count": 17,
   "metadata": {
    "collapsed": true
   },
   "outputs": [],
   "source": [
    "with open('headlines_wsj_2016.pickle', 'wb') as handle:\n",
    "    pickle.dump(headlines_wsj_2016, handle)"
   ]
  },
  {
   "cell_type": "code",
   "execution_count": 18,
   "metadata": {
    "collapsed": false
   },
   "outputs": [
    {
     "data": {
      "text/plain": [
       "56355"
      ]
     },
     "execution_count": 18,
     "metadata": {},
     "output_type": "execute_result"
    }
   ],
   "source": [
    "len(headlines_wsj_2016)"
   ]
  },
  {
   "cell_type": "code",
   "execution_count": null,
   "metadata": {
    "collapsed": false
   },
   "outputs": [],
   "source": [
    "headlines_wsj_2016"
   ]
  },
  {
   "cell_type": "code",
   "execution_count": 20,
   "metadata": {
    "collapsed": true
   },
   "outputs": [],
   "source": [
    "headlines_wsj_2014 = []\n",
    "for k,v in d.items():\n",
    "    for i in range(len(v)):\n",
    "        headlines_wsj_2014.extend(get_wsj_articles(2014, k, v[i]))"
   ]
  },
  {
   "cell_type": "code",
   "execution_count": 22,
   "metadata": {
    "collapsed": false
   },
   "outputs": [],
   "source": [
    "with open('headlines_wsj_2014.pickle', 'wb') as handle:\n",
    "    pickle.dump(headlines_wsj_2014, handle)"
   ]
  },
  {
   "cell_type": "code",
   "execution_count": 23,
   "metadata": {
    "collapsed": true
   },
   "outputs": [],
   "source": [
    "headlines_wsj = []\n",
    "headlines_wsj.extend(headlines_wsj_2016)\n",
    "headlines_wsj.extend(headlines_wsj_2015)\n",
    "headlines_wsj.extend(headlines_wsj_2014)"
   ]
  },
  {
   "cell_type": "code",
   "execution_count": 24,
   "metadata": {
    "collapsed": false
   },
   "outputs": [
    {
     "data": {
      "text/plain": [
       "196847"
      ]
     },
     "execution_count": 24,
     "metadata": {},
     "output_type": "execute_result"
    }
   ],
   "source": [
    "len(headlines_wsj)"
   ]
  }
 ],
 "metadata": {
  "anaconda-cloud": {},
  "kernelspec": {
   "display_name": "Python [conda root]",
   "language": "python",
   "name": "conda-root-py"
  },
  "language_info": {
   "codemirror_mode": {
    "name": "ipython",
    "version": 2
   },
   "file_extension": ".py",
   "mimetype": "text/x-python",
   "name": "python",
   "nbconvert_exporter": "python",
   "pygments_lexer": "ipython2",
   "version": "2.7.12"
  }
 },
 "nbformat": 4,
 "nbformat_minor": 1
}
