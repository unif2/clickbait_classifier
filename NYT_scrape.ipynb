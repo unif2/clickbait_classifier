{
 "cells": [
  {
   "cell_type": "code",
   "execution_count": 1,
   "metadata": {
    "collapsed": true
   },
   "outputs": [],
   "source": [
    "# pip install nytimesarticle"
   ]
  },
  {
   "cell_type": "code",
   "execution_count": 77,
   "metadata": {
    "collapsed": true
   },
   "outputs": [],
   "source": [
    "from time import sleep\n",
    "\n",
    "from bs4 import BeautifulSoup\n",
    "\n",
    "import requests"
   ]
  },
  {
   "cell_type": "code",
   "execution_count": 32,
   "metadata": {
    "collapsed": true
   },
   "outputs": [],
   "source": [
    "from nytimesarticle import articleAPI\n",
    "api = articleAPI('yourkey')"
   ]
  },
  {
   "cell_type": "code",
   "execution_count": 3,
   "metadata": {
    "collapsed": true
   },
   "outputs": [],
   "source": [
    "Canada = api.search( q = 'Canada' )"
   ]
  },
  {
   "cell_type": "code",
   "execution_count": null,
   "metadata": {
    "collapsed": false
   },
   "outputs": [],
   "source": [
    "Canada"
   ]
  },
  {
   "cell_type": "code",
   "execution_count": 7,
   "metadata": {
    "collapsed": true
   },
   "outputs": [],
   "source": [
    "articles = api.search(begin_date=20140912)"
   ]
  },
  {
   "cell_type": "code",
   "execution_count": 15,
   "metadata": {
    "collapsed": true
   },
   "outputs": [],
   "source": [
    "articles = api.search(begin_date=20140912, page=100)"
   ]
  },
  {
   "cell_type": "code",
   "execution_count": null,
   "metadata": {
    "collapsed": false
   },
   "outputs": [],
   "source": [
    "articles"
   ]
  },
  {
   "cell_type": "code",
   "execution_count": 17,
   "metadata": {
    "collapsed": true
   },
   "outputs": [],
   "source": [
    "url = 'http://query.nytimes.com/search/sitesearch/#/*/from20140912to20161123/allresults/4/'"
   ]
  },
  {
   "cell_type": "code",
   "execution_count": 36,
   "metadata": {
    "collapsed": true
   },
   "outputs": [],
   "source": [
    "def parse_articles(articles):\n",
    "    '''\n",
    "    This function takes in a response to the NYT api and parses\n",
    "    the articles into a list of dictionaries\n",
    "    '''\n",
    "    news = []\n",
    "    for i in articles['response']['docs']:\n",
    "        dic = {}\n",
    "        dic['id'] = i['_id']\n",
    "        if i['abstract'] is not None:\n",
    "            dic['abstract'] = i['abstract'].encode(\"utf8\")\n",
    "        dic['headline'] = i['headline']['main'].encode(\"utf8\")\n",
    "        dic['desk'] = i['news_desk']\n",
    "        dic['date'] = i['pub_date'][0:10] # cutting time of day.\n",
    "        dic['section'] = i['section_name']\n",
    "        if i['snippet'] is not None:\n",
    "            dic['snippet'] = i['snippet'].encode(\"utf8\")\n",
    "        dic['source'] = i['source']\n",
    "        dic['type'] = i['type_of_material']\n",
    "        dic['url'] = i['web_url']\n",
    "        dic['word_count'] = i['word_count']\n",
    "        # locations\n",
    "        locations = []\n",
    "        for x in range(0,len(i['keywords'])):\n",
    "            if 'glocations' in i['keywords'][x]['name']:\n",
    "                locations.append(i['keywords'][x]['value'])\n",
    "        dic['locations'] = locations\n",
    "        # subject\n",
    "        subjects = []\n",
    "        for x in range(0,len(i['keywords'])):\n",
    "            if 'subject' in i['keywords'][x]['name']:\n",
    "                subjects.append(i['keywords'][x]['value'])\n",
    "        dic['subjects'] = subjects\n",
    "        news.append(dic)\n",
    "        return(news)"
   ]
  },
  {
   "cell_type": "code",
   "execution_count": 37,
   "metadata": {
    "collapsed": true
   },
   "outputs": [],
   "source": [
    "def get_articles(year, query=None):\n",
    "    '''\n",
    "    This function accepts a year in string format (e.g.'1980')\n",
    "    and a query (e.g.'Amnesty International') and it will \n",
    "    return a list of parsed articles (in dictionaries)\n",
    "    for that year.  Default is query=None\n",
    "    '''\n",
    "    all_articles = []\n",
    "    for i in range(0,100): #NYT limits pager to first 100 pages. But rarely will you find over 100 pages of results anyway.\n",
    "        articles = api.search(q = query, fq = {'source':['The New York Times']},begin_date = year + '0101',end_date = year + '1231',sort='oldest',page = str(i))\n",
    "        articles = parse_articles(articles)\n",
    "        all_articles = all_articles + articles\n",
    "    return(all_articles)"
   ]
  },
  {
   "cell_type": "code",
   "execution_count": null,
   "metadata": {
    "collapsed": false
   },
   "outputs": [],
   "source": [
    "articles = []\n",
    "for i in range(2014, 2016):\n",
    "    print 'Processing' + str(i) + '...'\n",
    "    article_year =  get_articles(str(i))\n",
    "    articles = articles + article_year"
   ]
  },
  {
   "cell_type": "code",
   "execution_count": null,
   "metadata": {
    "collapsed": false
   },
   "outputs": [],
   "source": [
    "all_articles = []\n",
    "for i in range(100):\n",
    "    articles = api.search(q = None, fq = {'source':['The New York Times']},begin_date = '2014' + '0101',end_date = '2016' + '1231',sort='oldest',page = str(i))\n",
    "    all_articles = all_articles + articles"
   ]
  },
  {
   "cell_type": "code",
   "execution_count": 193,
   "metadata": {
    "collapsed": false
   },
   "outputs": [
    {
     "name": "stdout",
     "output_type": "stream",
     "text": [
      "22\n",
      "error\n",
      "28\n",
      "error\n",
      "37\n",
      "error\n",
      "46\n",
      "error\n",
      "58\n",
      "error\n",
      "64\n",
      "error\n",
      "76\n",
      "error\n",
      "85\n",
      "error\n",
      "88\n",
      "error\n"
     ]
    }
   ],
   "source": [
    "headlines = []\n",
    "for i in range(101): \n",
    "    try:\n",
    "        sleep(1)\n",
    "        articles = api.search(q = None, fq = {'source':['The New York Times']},begin_date = '2016' + '0614',end_date = '2016' + '1128',sort='oldest',page = str(i))\n",
    "#        print i\n",
    "        for j in range(len(articles['response']['docs'])):\n",
    "            headlines.append(articles['response']['docs'][j]['headline']['main'])\n",
    "        if 'status' not in x:\n",
    "            print 'bad JSON'\n",
    "            print x\n",
    "            continue\n",
    "    except ValueError:\n",
    "        print i\n",
    "        print 'error'\n",
    "        continue\n",
    "        \n",
    "for i in range(101): \n",
    "    try:\n",
    "        sleep(1)\n",
    "        articles = api.search(q = None, fq = {'source':['The New York Times']},begin_date = '2016' + '0101',end_date = '2016' + '0613',sort='oldest',page = str(i))\n",
    "#        print i\n",
    "        for j in range(len(articles['response']['docs'])):\n",
    "            headlines.append(articles['response']['docs'][j]['headline']['main'])\n",
    "        if 'status' not in x:\n",
    "            print 'bad JSON'\n",
    "            print x\n",
    "            continue\n",
    "    except ValueError:\n",
    "        print i\n",
    "        print 'error'\n",
    "        continue\n",
    "        \n",
    "for i in range(101): \n",
    "    try:\n",
    "        sleep(1)\n",
    "        articles = api.search(q = None, fq = {'source':['The New York Times']},begin_date = '2015' + '0601',end_date = '2015' + '1231',sort='oldest',page = str(i))\n",
    "#        print i\n",
    "        for j in range(len(articles['response']['docs'])):\n",
    "            headlines.append(articles['response']['docs'][j]['headline']['main'])\n",
    "        if 'status' not in x:\n",
    "            print 'bad JSON'\n",
    "            print x\n",
    "            continue\n",
    "    except ValueError:\n",
    "        print i\n",
    "        print 'error'\n",
    "        continue\n",
    "\n",
    "for i in range(101): \n",
    "    try:\n",
    "        sleep(1)\n",
    "        articles = api.search(q = None, fq = {'source':['The New York Times']},begin_date = '2015' + '0101',end_date = '2015' + '0531',sort='oldest',page = str(i))\n",
    "#        print i\n",
    "        for j in range(len(articles['response']['docs'])):\n",
    "            headlines.append(articles['response']['docs'][j]['headline']['main'])\n",
    "        if 'status' not in x:\n",
    "            print 'bad JSON'\n",
    "            print x\n",
    "            continue\n",
    "    except ValueError:\n",
    "        print i\n",
    "        print 'error'\n",
    "        continue"
   ]
  },
  {
   "cell_type": "code",
   "execution_count": 304,
   "metadata": {
    "collapsed": false
   },
   "outputs": [],
   "source": [
    "def get_headlines(source, begin, end):\n",
    "    headlines = []\n",
    "    for i in range(101): \n",
    "        try:\n",
    "            sleep(1)\n",
    "            articles = api.search(q = None, fq = {'source':source},begin_date = begin,end_date = end,sort='oldest',page = str(i))\n",
    "    #        print i\n",
    "            for j in range(len(articles['response']['docs'])):\n",
    "                headlines.append(articles['response']['docs'][j]['headline']['main'])\n",
    "            if 'status' not in x:\n",
    "                print 'bad JSON'\n",
    "                print x\n",
    "                continue\n",
    "        except ValueError:\n",
    "            print i\n",
    "            print 'error'\n",
    "            continue\n",
    "    return headlines"
   ]
  },
  {
   "cell_type": "code",
   "execution_count": 305,
   "metadata": {
    "collapsed": false
   },
   "outputs": [
    {
     "name": "stdout",
     "output_type": "stream",
     "text": [
      "20\n",
      "error\n",
      "27\n",
      "error\n",
      "84\n",
      "error\n",
      "92\n",
      "error\n",
      "98\n",
      "error\n"
     ]
    }
   ],
   "source": [
    "headlines1 = get_headlines('The New York Times', '20160614', '20161128')"
   ]
  },
  {
   "cell_type": "code",
   "execution_count": 308,
   "metadata": {
    "collapsed": false
   },
   "outputs": [
    {
     "name": "stdout",
     "output_type": "stream",
     "text": [
      "32\n",
      "error\n",
      "36\n",
      "error\n",
      "55\n",
      "error\n",
      "64\n",
      "error\n",
      "65\n",
      "error\n",
      "68\n",
      "error\n"
     ]
    }
   ],
   "source": [
    "headlines2 = get_headlines('The New York Times', '20160101', '20160613')"
   ]
  },
  {
   "cell_type": "code",
   "execution_count": 310,
   "metadata": {
    "collapsed": false
   },
   "outputs": [
    {
     "name": "stdout",
     "output_type": "stream",
     "text": [
      "9\n",
      "error\n",
      "43\n",
      "error\n",
      "50\n",
      "error\n"
     ]
    }
   ],
   "source": [
    "headlines3 = get_headlines('The New York Times', '20150601', '20151231')"
   ]
  },
  {
   "cell_type": "code",
   "execution_count": 331,
   "metadata": {
    "collapsed": false
   },
   "outputs": [
    {
     "name": "stdout",
     "output_type": "stream",
     "text": [
      "3\n",
      "error\n",
      "18\n",
      "error\n",
      "28\n",
      "error\n",
      "57\n",
      "error\n",
      "81\n",
      "error\n"
     ]
    }
   ],
   "source": [
    "headlines5 = get_headlines('The New York Times', '20150101', '20150531')"
   ]
  },
  {
   "cell_type": "code",
   "execution_count": 328,
   "metadata": {
    "collapsed": false
   },
   "outputs": [
    {
     "data": {
      "text/plain": [
       "940"
      ]
     },
     "execution_count": 328,
     "metadata": {},
     "output_type": "execute_result"
    }
   ],
   "source": [
    "len(headlines4)"
   ]
  },
  {
   "cell_type": "code",
   "execution_count": null,
   "metadata": {
    "collapsed": false
   },
   "outputs": [],
   "source": [
    "headlines4"
   ]
  },
  {
   "cell_type": "code",
   "execution_count": 332,
   "metadata": {
    "collapsed": false
   },
   "outputs": [
    {
     "name": "stdout",
     "output_type": "stream",
     "text": [
      "15\n",
      "error\n",
      "37\n",
      "error\n",
      "38\n",
      "error\n",
      "46\n",
      "error\n",
      "78\n",
      "error\n",
      "85\n",
      "error\n"
     ]
    }
   ],
   "source": [
    "headlines6 = get_headlines('The New York Times', '20140101', '20140531')"
   ]
  },
  {
   "cell_type": "code",
   "execution_count": 334,
   "metadata": {
    "collapsed": true
   },
   "outputs": [],
   "source": [
    "import pickle"
   ]
  },
  {
   "cell_type": "code",
   "execution_count": 335,
   "metadata": {
    "collapsed": true
   },
   "outputs": [],
   "source": [
    "d = {1:headlines1, 2:headlines2, 3:headlines3, 4:headlines4, 5:headlines5, 6:headlines6}\n",
    "for k,v in d.items():\n",
    "    with open('headlines' + str(k) + '.pickle', 'wb') as handle:\n",
    "        pickle.dump(v, handle)"
   ]
  },
  {
   "cell_type": "code",
   "execution_count": 336,
   "metadata": {
    "collapsed": false
   },
   "outputs": [
    {
     "name": "stdout",
     "output_type": "stream",
     "text": [
      "11\n",
      "error\n",
      "13\n",
      "error\n",
      "69\n",
      "error\n",
      "84\n",
      "error\n",
      "97\n",
      "error\n"
     ]
    }
   ],
   "source": [
    "headlines7 = get_headlines('The New York Times', '20130601', '20131231')"
   ]
  },
  {
   "cell_type": "code",
   "execution_count": 337,
   "metadata": {
    "collapsed": false
   },
   "outputs": [
    {
     "name": "stdout",
     "output_type": "stream",
     "text": [
      "1\n",
      "error\n",
      "8\n",
      "error\n",
      "85\n",
      "error\n"
     ]
    }
   ],
   "source": [
    "headlines8 = get_headlines('The New York Times', '20130101', '20130531')"
   ]
  },
  {
   "cell_type": "code",
   "execution_count": 338,
   "metadata": {
    "collapsed": true
   },
   "outputs": [],
   "source": [
    "headlines9 = get_headlines('Reuters', '20160614', '20161128')"
   ]
  },
  {
   "cell_type": "code",
   "execution_count": 340,
   "metadata": {
    "collapsed": false
   },
   "outputs": [],
   "source": [
    "headlines10 = get_headlines('Reuters', '20160101', '20160613')"
   ]
  },
  {
   "cell_type": "code",
   "execution_count": 342,
   "metadata": {
    "collapsed": false
   },
   "outputs": [
    {
     "name": "stdout",
     "output_type": "stream",
     "text": [
      "21\n",
      "error\n",
      "32\n",
      "error\n",
      "64\n",
      "error\n",
      "66\n",
      "error\n",
      "68\n",
      "error\n",
      "82\n",
      "error\n"
     ]
    }
   ],
   "source": [
    "headlines11 = get_headlines('The New York Times', '20120601', '20121231')"
   ]
  },
  {
   "cell_type": "code",
   "execution_count": 343,
   "metadata": {
    "collapsed": false
   },
   "outputs": [
    {
     "name": "stdout",
     "output_type": "stream",
     "text": [
      "55\n",
      "error\n",
      "59\n",
      "error\n",
      "75\n",
      "error\n",
      "86\n",
      "error\n",
      "95\n",
      "error\n"
     ]
    }
   ],
   "source": [
    "headlines12 = get_headlines('The New York Times', '20120101', '20120531')"
   ]
  },
  {
   "cell_type": "code",
   "execution_count": 344,
   "metadata": {
    "collapsed": false
   },
   "outputs": [
    {
     "name": "stdout",
     "output_type": "stream",
     "text": [
      "9\n",
      "error\n",
      "13\n",
      "error\n",
      "14\n",
      "error\n",
      "20\n",
      "error\n",
      "22\n",
      "error\n",
      "25\n",
      "error\n",
      "48\n",
      "error\n",
      "66\n",
      "error\n",
      "71\n",
      "error\n",
      "72\n",
      "error\n",
      "79\n",
      "error\n",
      "89\n",
      "error\n",
      "91\n",
      "error\n",
      "96\n",
      "error\n",
      "98\n",
      "error\n"
     ]
    }
   ],
   "source": [
    "headlines13 = get_headlines('The New York Times', '20110601', '20111231')"
   ]
  },
  {
   "cell_type": "code",
   "execution_count": 345,
   "metadata": {
    "collapsed": false
   },
   "outputs": [
    {
     "name": "stdout",
     "output_type": "stream",
     "text": [
      "3\n",
      "error\n",
      "8\n",
      "error\n",
      "9\n",
      "error\n",
      "10\n",
      "error\n",
      "19\n",
      "error\n",
      "35\n",
      "error\n",
      "40\n",
      "error\n",
      "60\n",
      "error\n",
      "66\n",
      "error\n",
      "68\n",
      "error\n",
      "88\n",
      "error\n",
      "92\n",
      "error\n",
      "100\n",
      "error\n"
     ]
    }
   ],
   "source": [
    "headlines14 = get_headlines('The New York Times', '20110101', '20110531')"
   ]
  },
  {
   "cell_type": "code",
   "execution_count": 346,
   "metadata": {
    "collapsed": false
   },
   "outputs": [
    {
     "data": {
      "text/plain": [
       "880"
      ]
     },
     "execution_count": 346,
     "metadata": {},
     "output_type": "execute_result"
    }
   ],
   "source": [
    "len(headlines14)"
   ]
  },
  {
   "cell_type": "code",
   "execution_count": 347,
   "metadata": {
    "collapsed": false
   },
   "outputs": [
    {
     "data": {
      "text/plain": [
       "12359"
      ]
     },
     "execution_count": 347,
     "metadata": {},
     "output_type": "execute_result"
    }
   ],
   "source": [
    "len(headlines1) + len(headlines2) + len(headlines3) + len(headlines4) + len(headlines5) + len(headlines6) + len(headlines7) + len(headlines8) + len(headlines9) + len(headlines10) + len(headlines11) + len(headlines12) + len(headlines13) + len(headlines14) "
   ]
  },
  {
   "cell_type": "code",
   "execution_count": 348,
   "metadata": {
    "collapsed": false
   },
   "outputs": [
    {
     "name": "stdout",
     "output_type": "stream",
     "text": [
      "8\n",
      "error\n",
      "13\n",
      "error\n",
      "29\n",
      "error\n",
      "59\n",
      "error\n",
      "70\n",
      "error\n",
      "77\n",
      "error\n",
      "86\n",
      "error\n",
      "89\n",
      "error\n",
      "96\n",
      "error\n"
     ]
    }
   ],
   "source": [
    "headlines15 = get_headlines('The New York Times', '20100601', '20101231')"
   ]
  },
  {
   "cell_type": "code",
   "execution_count": 349,
   "metadata": {
    "collapsed": false
   },
   "outputs": [
    {
     "name": "stdout",
     "output_type": "stream",
     "text": [
      "1\n",
      "error\n",
      "9\n",
      "error\n",
      "11\n",
      "error\n",
      "17\n",
      "error\n",
      "26\n",
      "error\n",
      "27\n",
      "error\n",
      "28\n",
      "error\n",
      "53\n",
      "error\n",
      "73\n",
      "error\n",
      "83\n",
      "error\n"
     ]
    }
   ],
   "source": [
    "headlines16 = get_headlines('The New York Times', '20100101', '20100531')"
   ]
  },
  {
   "cell_type": "code",
   "execution_count": 350,
   "metadata": {
    "collapsed": false
   },
   "outputs": [
    {
     "name": "stdout",
     "output_type": "stream",
     "text": [
      "7\n",
      "error\n",
      "11\n",
      "error\n",
      "38\n",
      "error\n",
      "65\n",
      "error\n"
     ]
    }
   ],
   "source": [
    "headlines17 = get_headlines('The New York Times', '20090601', '20091231')"
   ]
  },
  {
   "cell_type": "code",
   "execution_count": 351,
   "metadata": {
    "collapsed": false
   },
   "outputs": [
    {
     "name": "stdout",
     "output_type": "stream",
     "text": [
      "0\n",
      "error\n",
      "1\n",
      "error\n",
      "2\n",
      "error\n",
      "13\n",
      "error\n",
      "27\n",
      "error\n",
      "36\n",
      "error\n",
      "46\n",
      "error\n",
      "54\n",
      "error\n",
      "60\n",
      "error\n",
      "75\n",
      "error\n",
      "87\n",
      "error\n",
      "92\n",
      "error\n",
      "95\n",
      "error\n"
     ]
    }
   ],
   "source": [
    "headlines18 = get_headlines('The New York Times', '20090101', '20090531')"
   ]
  },
  {
   "cell_type": "code",
   "execution_count": 352,
   "metadata": {
    "collapsed": false
   },
   "outputs": [
    {
     "name": "stdout",
     "output_type": "stream",
     "text": [
      "8\n",
      "error\n",
      "10\n",
      "error\n",
      "11\n",
      "error\n",
      "16\n",
      "error\n",
      "29\n",
      "error\n",
      "39\n",
      "error\n",
      "51\n",
      "error\n",
      "58\n",
      "error\n",
      "84\n",
      "error\n",
      "100\n",
      "error\n"
     ]
    }
   ],
   "source": [
    "headlines19 = get_headlines('The New York Times', '20080601', '20081231')"
   ]
  },
  {
   "cell_type": "code",
   "execution_count": 353,
   "metadata": {
    "collapsed": false
   },
   "outputs": [
    {
     "name": "stdout",
     "output_type": "stream",
     "text": [
      "12\n",
      "error\n",
      "13\n",
      "error\n",
      "19\n",
      "error\n",
      "21\n",
      "error\n",
      "23\n",
      "error\n",
      "25\n",
      "error\n",
      "32\n",
      "error\n",
      "34\n",
      "error\n",
      "35\n",
      "error\n",
      "51\n",
      "error\n",
      "52\n",
      "error\n",
      "73\n",
      "error\n"
     ]
    }
   ],
   "source": [
    "headlines20 = get_headlines('The New York Times', '20080101', '20080531')"
   ]
  },
  {
   "cell_type": "code",
   "execution_count": 354,
   "metadata": {
    "collapsed": true
   },
   "outputs": [],
   "source": [
    "d = {7:headlines7, 8:headlines8, 9:headlines9, 10:headlines10, 11:headlines11, 12:headlines12}\n",
    "for k,v in d.items():\n",
    "    with open('headlines' + str(k) + '.pickle', 'wb') as handle:\n",
    "        pickle.dump(v, handle)"
   ]
  },
  {
   "cell_type": "code",
   "execution_count": 355,
   "metadata": {
    "collapsed": true
   },
   "outputs": [],
   "source": [
    "d = {13:headlines13, 14:headlines14, 15:headlines15, 16:headlines16, 17:headlines17, 18:headlines18, 19:headlines19, 20:headlines20}\n",
    "for k,v in d.items():\n",
    "    with open('headlines' + str(k) + '.pickle', 'wb') as handle:\n",
    "        pickle.dump(v, handle)"
   ]
  },
  {
   "cell_type": "code",
   "execution_count": 356,
   "metadata": {
    "collapsed": false
   },
   "outputs": [
    {
     "data": {
      "text/plain": [
       "17819"
      ]
     },
     "execution_count": 356,
     "metadata": {},
     "output_type": "execute_result"
    }
   ],
   "source": [
    "len(headlines15) + len(headlines16) + len(headlines17) + len(headlines18) + len(headlines19) + len(headlines20) + 12359"
   ]
  },
  {
   "cell_type": "code",
   "execution_count": 357,
   "metadata": {
    "collapsed": true
   },
   "outputs": [],
   "source": [
    "headlines21 = get_headlines('Reuters', '20150601', '20151231')"
   ]
  },
  {
   "cell_type": "code",
   "execution_count": 358,
   "metadata": {
    "collapsed": false
   },
   "outputs": [
    {
     "data": {
      "text/plain": [
       "896"
      ]
     },
     "execution_count": 358,
     "metadata": {},
     "output_type": "execute_result"
    }
   ],
   "source": [
    "len(headlines21)"
   ]
  },
  {
   "cell_type": "code",
   "execution_count": 359,
   "metadata": {
    "collapsed": true
   },
   "outputs": [],
   "source": [
    "headlines22 = get_headlines('Reuters', '20150101', '20150531')\n",
    "\n",
    "headlines23 = get_headlines('Reuters', '20140601', '20141231')\n",
    "\n",
    "headlines24 = get_headlines('Reuters', '20140101', '20140531')\n",
    "\n",
    "headlines25 = get_headlines('Reuters', '20130601', '20131231')\n",
    "\n",
    "headlines26 = get_headlines('Reuters', '20130101', '20130531')\n",
    "\n",
    "headlines27 = get_headlines('Reuters', '20120601', '20121231')\n",
    "\n",
    "headlines28 = get_headlines('Reuters', '20120101', '20120531')\n",
    "\n",
    "headlines29 = get_headlines('Reuters', '20110601', '20111231')\n",
    "\n",
    "headlines30 = get_headlines('Reuters', '20110101', '20110531')"
   ]
  },
  {
   "cell_type": "code",
   "execution_count": 371,
   "metadata": {
    "collapsed": false
   },
   "outputs": [
    {
     "data": {
      "text/plain": [
       "1"
      ]
     },
     "execution_count": 371,
     "metadata": {},
     "output_type": "execute_result"
    }
   ],
   "source": [
    "len(headlines28)"
   ]
  },
  {
   "cell_type": "code",
   "execution_count": 372,
   "metadata": {
    "collapsed": false
   },
   "outputs": [
    {
     "data": {
      "text/plain": [
       "[u\"A Cystic Fibrosis Treatment Is Called 'Game-Changing'\"]"
      ]
     },
     "execution_count": 372,
     "metadata": {},
     "output_type": "execute_result"
    }
   ],
   "source": [
    "headlines28"
   ]
  },
  {
   "cell_type": "code",
   "execution_count": 379,
   "metadata": {
    "collapsed": false
   },
   "outputs": [
    {
     "data": {
      "text/plain": [
       "218"
      ]
     },
     "execution_count": 379,
     "metadata": {},
     "output_type": "execute_result"
    }
   ],
   "source": [
    "len(headlines25)"
   ]
  },
  {
   "cell_type": "code",
   "execution_count": 380,
   "metadata": {
    "collapsed": true
   },
   "outputs": [],
   "source": [
    "d = {21:headlines21, 22:headlines22, 23:headlines23, 24:headlines24, 25:headlines25, 28:headlines28}\n",
    "for k,v in d.items():\n",
    "    with open('headlines' + str(k) + '.pickle', 'wb') as handle:\n",
    "        pickle.dump(v, handle)"
   ]
  },
  {
   "cell_type": "code",
   "execution_count": 385,
   "metadata": {
    "collapsed": false
   },
   "outputs": [
    {
     "data": {
      "text/plain": [
       "0"
      ]
     },
     "execution_count": 385,
     "metadata": {},
     "output_type": "execute_result"
    }
   ],
   "source": [
    "len(headlines30)"
   ]
  },
  {
   "cell_type": "code",
   "execution_count": 386,
   "metadata": {
    "collapsed": true
   },
   "outputs": [],
   "source": [
    "headline31 = get_headlines('AP', '20160614', '20161128')"
   ]
  },
  {
   "cell_type": "code",
   "execution_count": 388,
   "metadata": {
    "collapsed": false
   },
   "outputs": [
    {
     "data": {
      "text/plain": [
       "772"
      ]
     },
     "execution_count": 388,
     "metadata": {},
     "output_type": "execute_result"
    }
   ],
   "source": [
    "len(headline31)"
   ]
  },
  {
   "cell_type": "code",
   "execution_count": 389,
   "metadata": {
    "collapsed": false
   },
   "outputs": [
    {
     "name": "stdout",
     "output_type": "stream",
     "text": [
      "45\n",
      "error\n"
     ]
    }
   ],
   "source": [
    "headlines32 = get_headlines('AP', '20160101', '20160613')"
   ]
  },
  {
   "cell_type": "code",
   "execution_count": 390,
   "metadata": {
    "collapsed": false
   },
   "outputs": [
    {
     "name": "stdout",
     "output_type": "stream",
     "text": [
      "33\n",
      "error\n"
     ]
    }
   ],
   "source": [
    "headlines33 = get_headlines('AP', '20150601', '20151231')"
   ]
  },
  {
   "cell_type": "code",
   "execution_count": 391,
   "metadata": {
    "collapsed": true
   },
   "outputs": [],
   "source": [
    "headlines34 = get_headlines('AP', '20150101', '20150531')"
   ]
  },
  {
   "cell_type": "code",
   "execution_count": 392,
   "metadata": {
    "collapsed": false
   },
   "outputs": [
    {
     "name": "stdout",
     "output_type": "stream",
     "text": [
      "79\n",
      "error\n"
     ]
    }
   ],
   "source": [
    "headlines35 = get_headlines('AP', '20140601', '20141231')"
   ]
  },
  {
   "cell_type": "code",
   "execution_count": 393,
   "metadata": {
    "collapsed": false
   },
   "outputs": [
    {
     "name": "stdout",
     "output_type": "stream",
     "text": [
      "20\n",
      "error\n",
      "77\n",
      "error\n"
     ]
    }
   ],
   "source": [
    "headlines36 = get_headlines('AP', '20140101', '20140531')"
   ]
  },
  {
   "cell_type": "code",
   "execution_count": 394,
   "metadata": {
    "collapsed": true
   },
   "outputs": [],
   "source": [
    "headlines37 = get_headlines('AP', '20130601', '20131231')"
   ]
  },
  {
   "cell_type": "code",
   "execution_count": 395,
   "metadata": {
    "collapsed": false
   },
   "outputs": [
    {
     "name": "stdout",
     "output_type": "stream",
     "text": [
      "87\n",
      "error\n"
     ]
    }
   ],
   "source": [
    "headlines38 = get_headlines('AP', '20130101', '20130531')"
   ]
  },
  {
   "cell_type": "code",
   "execution_count": 396,
   "metadata": {
    "collapsed": true
   },
   "outputs": [],
   "source": [
    "headlines39 = get_headlines('AP', '20120601', '20121231')"
   ]
  },
  {
   "cell_type": "code",
   "execution_count": 397,
   "metadata": {
    "collapsed": true
   },
   "outputs": [],
   "source": [
    "headlines40 = get_headlines('AP', '20120101', '20120531')"
   ]
  },
  {
   "cell_type": "code",
   "execution_count": 398,
   "metadata": {
    "collapsed": true
   },
   "outputs": [],
   "source": [
    "headlines41 = get_headlines('AP', '20110601', '20111231')"
   ]
  },
  {
   "cell_type": "code",
   "execution_count": 399,
   "metadata": {
    "collapsed": true
   },
   "outputs": [],
   "source": [
    "headlines42 = get_headlines('AP', '20110101', '20110531')"
   ]
  },
  {
   "cell_type": "code",
   "execution_count": 400,
   "metadata": {
    "collapsed": true
   },
   "outputs": [],
   "source": [
    "d = {32:headlines32, 33:headlines33, 34:headlines34, 35:headlines35, 36:headlines36, 37:headlines37, 38:headlines38, 39:headlines39, 40:headlines40, 41:headlines41, 42:headlines42}\n",
    "for k,v in d.items():\n",
    "    with open('headlines' + str(k) + '.pickle', 'wb') as handle:\n",
    "        pickle.dump(v, handle)"
   ]
  },
  {
   "cell_type": "code",
   "execution_count": 401,
   "metadata": {
    "collapsed": true
   },
   "outputs": [],
   "source": [
    "d = {31:headline31}\n",
    "for k,v in d.items():\n",
    "    with open('headlines' + str(k) + '.pickle', 'wb') as handle:\n",
    "        pickle.dump(v, handle)"
   ]
  },
  {
   "cell_type": "code",
   "execution_count": 403,
   "metadata": {
    "collapsed": false
   },
   "outputs": [
    {
     "data": {
      "text/plain": [
       "2"
      ]
     },
     "execution_count": 403,
     "metadata": {},
     "output_type": "execute_result"
    }
   ],
   "source": [
    "len(headlines42)"
   ]
  },
  {
   "cell_type": "code",
   "execution_count": 404,
   "metadata": {
    "collapsed": true
   },
   "outputs": [],
   "source": [
    "headlines31 = headline31"
   ]
  },
  {
   "cell_type": "code",
   "execution_count": 405,
   "metadata": {
    "collapsed": false
   },
   "outputs": [
    {
     "data": {
      "text/plain": [
       "772"
      ]
     },
     "execution_count": 405,
     "metadata": {},
     "output_type": "execute_result"
    }
   ],
   "source": [
    "len(headlines31)"
   ]
  },
  {
   "cell_type": "code",
   "execution_count": 406,
   "metadata": {
    "collapsed": false
   },
   "outputs": [
    {
     "data": {
      "text/plain": [
       "772"
      ]
     },
     "execution_count": 406,
     "metadata": {},
     "output_type": "execute_result"
    }
   ],
   "source": [
    "len(headline31)"
   ]
  },
  {
   "cell_type": "code",
   "execution_count": 435,
   "metadata": {
    "collapsed": true
   },
   "outputs": [],
   "source": [
    "file = open(\"headlines1.pickle\",'r')\n",
    "headlines1 = pickle.load(file)"
   ]
  },
  {
   "cell_type": "code",
   "execution_count": 437,
   "metadata": {
    "collapsed": true
   },
   "outputs": [],
   "source": [
    "headline_list = [headlines1, headlines2, headlines3, headlines4, headlines5, headlines6, headlines7, headlines8, headlines9, headlines10, headlines11, headlines12, headlines13, headlines14, headlines15, headlines16, headlines17, headlines18, headlines19, headlines20, headlines21, headlines22, headlines23, headlines24, headlines25, headlines26, headlines27, headlines28, headlines29, headlines30, headlines31, headlines32, headlines33, headlines34, headlines35, headlines36, headlines37, headlines38, headlines39, headlines40, headlines41, headlines42]"
   ]
  },
  {
   "cell_type": "code",
   "execution_count": 438,
   "metadata": {
    "collapsed": true
   },
   "outputs": [],
   "source": [
    "headlines = []\n",
    "for i in headline_list:\n",
    "    headlines.extend(i)"
   ]
  },
  {
   "cell_type": "code",
   "execution_count": 439,
   "metadata": {
    "collapsed": false
   },
   "outputs": [
    {
     "data": {
      "text/plain": [
       "27166"
      ]
     },
     "execution_count": 439,
     "metadata": {},
     "output_type": "execute_result"
    }
   ],
   "source": [
    "len(headlines)"
   ]
  },
  {
   "cell_type": "code",
   "execution_count": 440,
   "metadata": {
    "collapsed": true
   },
   "outputs": [],
   "source": [
    "with open('headlines.pickle', 'wb') as handle:\n",
    "    pickle.dump(headlines, handle)"
   ]
  },
  {
   "cell_type": "code",
   "execution_count": 413,
   "metadata": {
    "collapsed": false
   },
   "outputs": [
    {
     "name": "stdout",
     "output_type": "stream",
     "text": [
      "999\n"
     ]
    }
   ],
   "source": [
    "n = 0\n",
    "for i in headlines:\n",
    "    if 'James Murphy Confirms New LCD' in i:\n",
    "        print n\n",
    "        break\n",
    "    else:\n",
    "        n += 1"
   ]
  },
  {
   "cell_type": "code",
   "execution_count": null,
   "metadata": {
    "collapsed": false
   },
   "outputs": [],
   "source": [
    "headlines[1000:1999]"
   ]
  },
  {
   "cell_type": "code",
   "execution_count": 416,
   "metadata": {
    "collapsed": false
   },
   "outputs": [
    {
     "name": "stdout",
     "output_type": "stream",
     "text": [
      "‘Hi’\n",
      "'Hi'\n"
     ]
    }
   ],
   "source": [
    "print u\"\\u2018Hi\\u2019\"\n",
    "print u\"\\u2018Hi\\u2019\".replace(u\"\\u2018\", \"'\").replace(u\"\\u2019\", \"'\")"
   ]
  },
  {
   "cell_type": "code",
   "execution_count": 417,
   "metadata": {
    "collapsed": false
   },
   "outputs": [
    {
     "name": "stdout",
     "output_type": "stream",
     "text": [
      "'Hi'\n"
     ]
    }
   ],
   "source": [
    "import re\n",
    "s = u\"\\u2018Hi\\u2019\"\n",
    "print re.sub(u\"(\\u2018|\\u2019)\", \"'\", s)"
   ]
  },
  {
   "cell_type": "code",
   "execution_count": null,
   "metadata": {
    "collapsed": true
   },
   "outputs": [],
   "source": [
    "headlines43 = get_headlines('The New York Times', '20070101', '20080531')"
   ]
  },
  {
   "cell_type": "code",
   "execution_count": 424,
   "metadata": {
    "collapsed": false
   },
   "outputs": [],
   "source": [
    "headlines43 = get_headlines('Reuters', '20100101', '20100531')"
   ]
  },
  {
   "cell_type": "code",
   "execution_count": 425,
   "metadata": {
    "collapsed": false
   },
   "outputs": [
    {
     "data": {
      "text/plain": [
       "0"
      ]
     },
     "execution_count": 425,
     "metadata": {},
     "output_type": "execute_result"
    }
   ],
   "source": [
    "len(headlines43)"
   ]
  },
  {
   "cell_type": "code",
   "execution_count": 444,
   "metadata": {
    "collapsed": true
   },
   "outputs": [],
   "source": [
    "headline_list2 = [headlines1, headlines2, headlines3, headlines4, headlines5, headlines6, headlines7, headlines8, headlines11, headlines12, headlines13, headlines14, headlines15, headlines16, headlines17, headlines18, headlines19, headlines20]"
   ]
  },
  {
   "cell_type": "code",
   "execution_count": 445,
   "metadata": {
    "collapsed": true
   },
   "outputs": [],
   "source": [
    "headlines_NYT = []\n",
    "for i in headline_list2:\n",
    "    headlines_NYT.extend(i)"
   ]
  },
  {
   "cell_type": "code",
   "execution_count": 446,
   "metadata": {
    "collapsed": false
   },
   "outputs": [
    {
     "data": {
      "text/plain": [
       "16780"
      ]
     },
     "execution_count": 446,
     "metadata": {},
     "output_type": "execute_result"
    }
   ],
   "source": [
    "len(headlines_NYT)"
   ]
  },
  {
   "cell_type": "code",
   "execution_count": 443,
   "metadata": {
    "collapsed": false
   },
   "outputs": [
    {
     "data": {
      "text/plain": [
       "950"
      ]
     },
     "execution_count": 443,
     "metadata": {},
     "output_type": "execute_result"
    }
   ],
   "source": [
    "len(headlines2)"
   ]
  },
  {
   "cell_type": "code",
   "execution_count": 430,
   "metadata": {
    "collapsed": false
   },
   "outputs": [
    {
     "data": {
      "text/plain": [
       "772"
      ]
     },
     "execution_count": 430,
     "metadata": {},
     "output_type": "execute_result"
    }
   ],
   "source": [
    "len(headlines31)"
   ]
  },
  {
   "cell_type": "code",
   "execution_count": 431,
   "metadata": {
    "collapsed": false
   },
   "outputs": [
    {
     "data": {
      "text/plain": [
       "772"
      ]
     },
     "execution_count": 431,
     "metadata": {},
     "output_type": "execute_result"
    }
   ],
   "source": [
    "len(headline31)"
   ]
  },
  {
   "cell_type": "code",
   "execution_count": 447,
   "metadata": {
    "collapsed": true
   },
   "outputs": [],
   "source": [
    "with open('headlines_NYT.pickle', 'wb') as handle:\n",
    "    pickle.dump(headlines_NYT, handle)"
   ]
  },
  {
   "cell_type": "code",
   "execution_count": 448,
   "metadata": {
    "collapsed": true
   },
   "outputs": [],
   "source": [
    "headline_list3 = [headlines1, headlines2, headlines3, headlines4, headlines5, headlines6]"
   ]
  },
  {
   "cell_type": "code",
   "execution_count": 449,
   "metadata": {
    "collapsed": true
   },
   "outputs": [],
   "source": [
    "headlines_NYT_2016_2014 = []\n",
    "for i in headline_list3:\n",
    "    headlines_NYT_2016_2014.extend(i)\n",
    "with open('headlines_NYT_2016_2014.pickle', 'wb') as handle:\n",
    "    pickle.dump(headlines_NYT_2016_2014, handle)"
   ]
  },
  {
   "cell_type": "code",
   "execution_count": 450,
   "metadata": {
    "collapsed": false
   },
   "outputs": [
    {
     "data": {
      "text/plain": [
       "5740"
      ]
     },
     "execution_count": 450,
     "metadata": {},
     "output_type": "execute_result"
    }
   ],
   "source": [
    "len(headlines_NYT_2016_2014)"
   ]
  },
  {
   "cell_type": "code",
   "execution_count": 453,
   "metadata": {
    "collapsed": true
   },
   "outputs": [],
   "source": [
    "headline_list4 = [headlines1, headlines2, headlines3, headlines4, headlines5, headlines6, headlines9, headlines10, headlines21, headlines22, headlines23, headlines24, headlines31, headlines32, headlines33, headlines34, headlines35, headlines36]"
   ]
  },
  {
   "cell_type": "code",
   "execution_count": 454,
   "metadata": {
    "collapsed": true
   },
   "outputs": [],
   "source": [
    "headlines_2016_2014 = []\n",
    "for i in headline_list4:\n",
    "    headlines_2016_2014.extend(i)\n",
    "with open('headlines_2016_2014.pickle', 'wb') as handle:\n",
    "    pickle.dump(headlines_2016_2014, handle)"
   ]
  },
  {
   "cell_type": "code",
   "execution_count": 455,
   "metadata": {
    "collapsed": false
   },
   "outputs": [
    {
     "data": {
      "text/plain": [
       "15505"
      ]
     },
     "execution_count": 455,
     "metadata": {},
     "output_type": "execute_result"
    }
   ],
   "source": [
    "len(headlines_2016_2014)"
   ]
  },
  {
   "cell_type": "code",
   "execution_count": null,
   "metadata": {
    "collapsed": false
   },
   "outputs": [],
   "source": [
    "headlines_2016_2014"
   ]
  }
 ],
 "metadata": {
  "anaconda-cloud": {},
  "kernelspec": {
   "display_name": "Python [conda root]",
   "language": "python",
   "name": "conda-root-py"
  },
  "language_info": {
   "codemirror_mode": {
    "name": "ipython",
    "version": 2
   },
   "file_extension": ".py",
   "mimetype": "text/x-python",
   "name": "python",
   "nbconvert_exporter": "python",
   "pygments_lexer": "ipython2",
   "version": "2.7.12"
  }
 },
 "nbformat": 4,
 "nbformat_minor": 1
}
