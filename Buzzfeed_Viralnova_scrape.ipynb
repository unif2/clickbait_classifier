{
 "cells": [
  {
   "cell_type": "code",
   "execution_count": 1,
   "metadata": {
    "collapsed": true
   },
   "outputs": [],
   "source": [
    "import requests"
   ]
  },
  {
   "cell_type": "code",
   "execution_count": 8,
   "metadata": {
    "collapsed": true
   },
   "outputs": [],
   "source": [
    "url = 'https://newsapi.org/v1/articles?source=buzzfeed&sortBy=latest&apiKey=yourkey'\n",
    "data = requests.get(url)"
   ]
  },
  {
   "cell_type": "code",
   "execution_count": null,
   "metadata": {
    "collapsed": false
   },
   "outputs": [],
   "source": [
    "data.json()"
   ]
  },
  {
   "cell_type": "code",
   "execution_count": 10,
   "metadata": {
    "collapsed": true
   },
   "outputs": [],
   "source": [
    "url2 = 'https://newsapi.org/v1/articles?source=buzzfeed&sortBy=top&apiKey=yourkey'"
   ]
  },
  {
   "cell_type": "code",
   "execution_count": 11,
   "metadata": {
    "collapsed": true
   },
   "outputs": [],
   "source": [
    "data2 = requests.get(url2)"
   ]
  },
  {
   "cell_type": "code",
   "execution_count": null,
   "metadata": {
    "collapsed": false
   },
   "outputs": [],
   "source": [
    "data2.json()"
   ]
  },
  {
   "cell_type": "code",
   "execution_count": 2,
   "metadata": {
    "collapsed": true
   },
   "outputs": [],
   "source": [
    "from bs4 import BeautifulSoup"
   ]
  },
  {
   "cell_type": "code",
   "execution_count": 16,
   "metadata": {
    "collapsed": true
   },
   "outputs": [],
   "source": [
    "soup = BeautifulSoup(requests.get('https://www.buzzfeed.com').text, 'html5lib')"
   ]
  },
  {
   "cell_type": "code",
   "execution_count": null,
   "metadata": {
    "collapsed": false
   },
   "outputs": [],
   "source": [
    "soup.text"
   ]
  },
  {
   "cell_type": "code",
   "execution_count": 31,
   "metadata": {
    "collapsed": false
   },
   "outputs": [],
   "source": [
    "from selenium import webdriver\n",
    "from selenium.webdriver.common.keys import Keys\n",
    "import time\n",
    "\n",
    "import os\n",
    "chromedriver = \"/Users/vince/Downloads/chromedriver\"\n",
    "os.environ[\"webdriver.chrome.driver\"] = chromedriver\n",
    "\n",
    "\n",
    "driver = webdriver.Chrome(chromedriver)\n",
    "driver.get(\"https://www.buzzfeed.com\")"
   ]
  },
  {
   "cell_type": "code",
   "execution_count": 3,
   "metadata": {
    "collapsed": true
   },
   "outputs": [],
   "source": [
    "from time import sleep"
   ]
  },
  {
   "cell_type": "code",
   "execution_count": 33,
   "metadata": {
    "collapsed": false
   },
   "outputs": [],
   "source": [
    "driver.execute_script(\"window.scrollTo(0,99999999999999);\") # load all content\n",
    "sleep(10) # give the page time to load (10 seconds didn't allow all content to load for three states)\n",
    "driver.execute_script(\"window.scrollTo(0,99999999999999);\") # load all content\n",
    "sleep(10) # give the page time to load (10 seconds didn't allow all content to load for three states)\n",
    "driver.execute_script(\"window.scrollTo(0,99999999999999);\") # load all content\n",
    "sleep(10) # give the page time to load (10 seconds didn't allow all content to load for three states)\n",
    "driver.execute_script(\"window.scrollTo(0,99999999999999);\") # load all content\n",
    "sleep(10) # give the page time to load (10 seconds didn't allow all content to load for three states)\n",
    "driver.execute_script(\"window.scrollTo(0,99999999999999);\") # load all content\n",
    "sleep(10) # give the page time to load (10 seconds didn't allow all content to load for three states)\n",
    "driver.execute_script(\"window.scrollTo(0,99999999999999);\") # load all content\n",
    "sleep(10) # give the page time to load (10 seconds didn't allow all content to load for three states)\n",
    "driver.execute_script(\"window.scrollTo(0,99999999999999);\") # load all content\n",
    "sleep(10) # give the page time to load (10 seconds didn't allow all content to load for three states)\n",
    "driver.execute_script(\"window.scrollTo(0,99999999999999);\") # load all content\n",
    "sleep(10) # give the page time to load (10 seconds didn't allow all content to load for three states)\n",
    "driver.execute_script(\"window.scrollTo(0,99999999999999);\") # load all content\n",
    "sleep(10) # give the page time to load (10 seconds didn't allow all content to load for three states)\n",
    "driver.execute_script(\"window.scrollTo(0,99999999999999);\") # load all content\n",
    "sleep(10) # give the page time to load (10 seconds didn't allow all content to load for three states)\n",
    "driver.execute_script(\"window.scrollTo(0,99999999999999);\") # load all content\n",
    "sleep(10) # give the page time to load (10 seconds didn't allow all content to load for three states)\n",
    "driver.execute_script(\"window.scrollTo(0,99999999999999);\") # load all content\n",
    "sleep(10) # give the page time to load (10 seconds didn't allow all content to load for three states)\n",
    "driver.execute_script(\"window.scrollTo(0,99999999999999);\") # load all content\n",
    "sleep(10) # give the page time to load (10 seconds didn't allow all content to load for three states)\n",
    "driver.execute_script(\"window.scrollTo(0,99999999999999);\") # load all content\n",
    "sleep(10) # give the page time to load (10 seconds didn't allow all content to load for three states)\n",
    "driver.execute_script(\"window.scrollTo(0,99999999999999);\") # load all content\n",
    "sleep(10) # give the page time to load (10 seconds didn't allow all content to load for three states)\n",
    "driver.execute_script(\"window.scrollTo(0,99999999999999);\") # load all content\n",
    "sleep(10) # give the page time to load (10 seconds didn't allow all content to load for three states)\n",
    "driver.execute_script(\"window.scrollTo(0,99999999999999);\") # load all content\n",
    "sleep(10) # give the page time to load (10 seconds didn't allow all content to load for three states)\n",
    "driver.execute_script(\"window.scrollTo(0,99999999999999);\") # load all content\n",
    "sleep(10) # give the page time to load (10 seconds didn't allow all content to load for three states)\n",
    "driver.execute_script(\"window.scrollTo(0,99999999999999);\") # load all content\n",
    "sleep(10) # give the page time to load (10 seconds didn't allow all content to load for three states)\n",
    "\n",
    "data = driver.page_source # get the source html\n",
    "soup = BeautifulSoup(data,'lxml') # and turn it into a beautiful soup object\n",
    "\n",
    "#soup = BeautifulSoup(data,'html') # and turn it into a beautiful soup object"
   ]
  },
  {
   "cell_type": "code",
   "execution_count": null,
   "metadata": {
    "collapsed": false
   },
   "outputs": [],
   "source": [
    "soup.text"
   ]
  },
  {
   "cell_type": "code",
   "execution_count": 42,
   "metadata": {
    "collapsed": true
   },
   "outputs": [],
   "source": [
    "pages = range(1,1137)\n",
    "titles=[]"
   ]
  },
  {
   "cell_type": "code",
   "execution_count": 44,
   "metadata": {
    "collapsed": false
   },
   "outputs": [],
   "source": [
    "for i in pages:\n",
    "    url = 'https://www.buzzfeed.com/buzz?p=' + str(i) + '&z=44GHU3&r=1'\n",
    "    sleep(0.1)\n",
    "    soup = BeautifulSoup(requests.get(url).text, 'html5lib')\n",
    "    articles = soup.findAll('div', {\"class\" : \"lede__body\"})\n",
    "    for article in articles:\n",
    "        title = article.findNext().findNext().text\n",
    "        titles.append(title)"
   ]
  },
  {
   "cell_type": "code",
   "execution_count": 23,
   "metadata": {
    "collapsed": false
   },
   "outputs": [],
   "source": [
    "pages2 = range(1,346)\n",
    "titles2 = []\n",
    "for i in pages2:\n",
    "    url = 'https://www.buzzfeed.com/buzz?p=' + str(i) + '&z=44GHU3&r=1'\n",
    "    sleep(0.1)\n",
    "    soup = BeautifulSoup(requests.get(url).text, 'html5lib')\n",
    "    articles = soup.findAll('div', {\"class\" : \"lede__body\"})\n",
    "    for article in articles:\n",
    "        title = article.findNext().findNext().text\n",
    "        titles2.append(title)"
   ]
  },
  {
   "cell_type": "code",
   "execution_count": 16,
   "metadata": {
    "collapsed": false
   },
   "outputs": [],
   "source": [
    "sections = {'science':47, 'life':117, 'culture':102, 'videos':117, 'entertainment':86, 'omg': 105}\n",
    "viralnova = []\n",
    "for k,v in sections.items():\n",
    "    for i in range(1,v+1):\n",
    "        url = 'http://www.viralnova.com/' + k + '/' + str(i)\n",
    "        sleep(0.1)\n",
    "        soup = BeautifulSoup(requests.get(url).text, 'html5lib')\n",
    "        articles = soup.findAll('div', {'class' : 'post-box'})\n",
    "        for article in articles:\n",
    "            title = article.findNext().findNext().findNext().text\n",
    "            viralnova.append(title)"
   ]
  },
  {
   "cell_type": "code",
   "execution_count": 18,
   "metadata": {
    "collapsed": false
   },
   "outputs": [],
   "source": [
    "vnova = list(set(viralnova)) # Get rid of duplicate headlines since sections overlap"
   ]
  },
  {
   "cell_type": "code",
   "execution_count": 24,
   "metadata": {
    "collapsed": false
   },
   "outputs": [
    {
     "data": {
      "text/plain": [
       "11362"
      ]
     },
     "execution_count": 24,
     "metadata": {},
     "output_type": "execute_result"
    }
   ],
   "source": [
    "len(vnova)"
   ]
  },
  {
   "cell_type": "code",
   "execution_count": 24,
   "metadata": {
    "collapsed": false
   },
   "outputs": [
    {
     "data": {
      "text/plain": [
       "13810"
      ]
     },
     "execution_count": 24,
     "metadata": {},
     "output_type": "execute_result"
    }
   ],
   "source": [
    "len(titles2)"
   ]
  },
  {
   "cell_type": "code",
   "execution_count": 45,
   "metadata": {
    "collapsed": false
   },
   "outputs": [
    {
     "data": {
      "text/plain": [
       "45307"
      ]
     },
     "execution_count": 45,
     "metadata": {},
     "output_type": "execute_result"
    }
   ],
   "source": [
    "len(titles)"
   ]
  },
  {
   "cell_type": "code",
   "execution_count": 50,
   "metadata": {
    "collapsed": false
   },
   "outputs": [
    {
     "data": {
      "text/plain": [
       "0"
      ]
     },
     "execution_count": 50,
     "metadata": {},
     "output_type": "execute_result"
    }
   ],
   "source": [
    "len(titles[1])"
   ]
  },
  {
   "cell_type": "code",
   "execution_count": 9,
   "metadata": {
    "collapsed": true
   },
   "outputs": [],
   "source": [
    "import pickle"
   ]
  },
  {
   "cell_type": "code",
   "execution_count": 53,
   "metadata": {
    "collapsed": true
   },
   "outputs": [],
   "source": [
    "with open('buzzfeed.pickle', 'wb') as handle:\n",
    "    pickle.dump(titles, handle)"
   ]
  },
  {
   "cell_type": "code",
   "execution_count": 54,
   "metadata": {
    "collapsed": false
   },
   "outputs": [
    {
     "data": {
      "text/plain": [
       "u'\\n        Literally Just 19 Hilarious AF Tweets About Thanksgiving\\n      '"
      ]
     },
     "execution_count": 54,
     "metadata": {},
     "output_type": "execute_result"
    }
   ],
   "source": [
    "titles[0]"
   ]
  },
  {
   "cell_type": "code",
   "execution_count": 59,
   "metadata": {
    "collapsed": false
   },
   "outputs": [
    {
     "data": {
      "text/plain": [
       "u'\\n        '"
      ]
     },
     "execution_count": 59,
     "metadata": {},
     "output_type": "execute_result"
    }
   ],
   "source": [
    "titles[0][0:9]"
   ]
  },
  {
   "cell_type": "code",
   "execution_count": 10,
   "metadata": {
    "collapsed": false
   },
   "outputs": [],
   "source": [
    "file = open(\"buzzfeed.pickle\",'r')\n",
    "buzzfeed = pickle.load(file)"
   ]
  },
  {
   "cell_type": "code",
   "execution_count": null,
   "metadata": {
    "collapsed": false
   },
   "outputs": [],
   "source": [
    "buzzfeed[0:999]"
   ]
  },
  {
   "cell_type": "code",
   "execution_count": 12,
   "metadata": {
    "collapsed": false
   },
   "outputs": [
    {
     "data": {
      "text/plain": [
       "u'\\n        Literally Just 19 Hilarious AF Tweets About Thanksgiving\\n      '"
      ]
     },
     "execution_count": 12,
     "metadata": {},
     "output_type": "execute_result"
    }
   ],
   "source": [
    "buzzfeed[0]"
   ]
  },
  {
   "cell_type": "code",
   "execution_count": 13,
   "metadata": {
    "collapsed": false
   },
   "outputs": [
    {
     "data": {
      "text/plain": [
       "u''"
      ]
     },
     "execution_count": 13,
     "metadata": {},
     "output_type": "execute_result"
    }
   ],
   "source": [
    "buzzfeed[1]"
   ]
  },
  {
   "cell_type": "code",
   "execution_count": 14,
   "metadata": {
    "collapsed": false
   },
   "outputs": [
    {
     "data": {
      "text/plain": [
       "0"
      ]
     },
     "execution_count": 14,
     "metadata": {},
     "output_type": "execute_result"
    }
   ],
   "source": [
    "len(buzzfeed[1])"
   ]
  },
  {
   "cell_type": "code",
   "execution_count": 15,
   "metadata": {
    "collapsed": true
   },
   "outputs": [],
   "source": [
    "x = buzzfeed[0]"
   ]
  },
  {
   "cell_type": "code",
   "execution_count": 16,
   "metadata": {
    "collapsed": false
   },
   "outputs": [
    {
     "data": {
      "text/plain": [
       "u'\\n        Literally Just 19 Hilarious AF Tweets About Thanksgiving\\n      '"
      ]
     },
     "execution_count": 16,
     "metadata": {},
     "output_type": "execute_result"
    }
   ],
   "source": [
    "x"
   ]
  },
  {
   "cell_type": "code",
   "execution_count": 17,
   "metadata": {
    "collapsed": false
   },
   "outputs": [
    {
     "data": {
      "text/plain": [
       "u'Literally Just 19 Hilarious AF Tweets About Thanksgiving'"
      ]
     },
     "execution_count": 17,
     "metadata": {},
     "output_type": "execute_result"
    }
   ],
   "source": [
    "x.strip()"
   ]
  },
  {
   "cell_type": "code",
   "execution_count": 25,
   "metadata": {
    "collapsed": true
   },
   "outputs": [],
   "source": [
    "while '' in buzzfeed:\n",
    "    buzzfeed.remove('')"
   ]
  },
  {
   "cell_type": "code",
   "execution_count": 27,
   "metadata": {
    "collapsed": false
   },
   "outputs": [
    {
     "data": {
      "text/plain": [
       "45289"
      ]
     },
     "execution_count": 27,
     "metadata": {},
     "output_type": "execute_result"
    }
   ],
   "source": [
    "len(buzzfeed)"
   ]
  },
  {
   "cell_type": "code",
   "execution_count": 34,
   "metadata": {
    "collapsed": true
   },
   "outputs": [],
   "source": [
    "for i in range(len(buzzfeed)):\n",
    "    buzzfeed[i] = buzzfeed[i].strip()"
   ]
  },
  {
   "cell_type": "code",
   "execution_count": null,
   "metadata": {
    "collapsed": false
   },
   "outputs": [],
   "source": [
    "buzzfeed"
   ]
  },
  {
   "cell_type": "code",
   "execution_count": 36,
   "metadata": {
    "collapsed": false
   },
   "outputs": [
    {
     "data": {
      "text/plain": [
       "45289"
      ]
     },
     "execution_count": 36,
     "metadata": {},
     "output_type": "execute_result"
    }
   ],
   "source": [
    "len(buzzfeed)"
   ]
  },
  {
   "cell_type": "code",
   "execution_count": 37,
   "metadata": {
    "collapsed": true
   },
   "outputs": [],
   "source": [
    "with open('buzzfeed.pickle', 'wb') as handle:\n",
    "    pickle.dump(buzzfeed, handle)"
   ]
  },
  {
   "cell_type": "code",
   "execution_count": 22,
   "metadata": {
    "collapsed": false
   },
   "outputs": [],
   "source": [
    "import pickle\n",
    "with open('viralnova.pickle', 'wb') as handle:\n",
    "    pickle.dump(vnova, handle)"
   ]
  }
 ],
 "metadata": {
  "anaconda-cloud": {},
  "kernelspec": {
   "display_name": "Python [conda root]",
   "language": "python",
   "name": "conda-root-py"
  },
  "language_info": {
   "codemirror_mode": {
    "name": "ipython",
    "version": 2
   },
   "file_extension": ".py",
   "mimetype": "text/x-python",
   "name": "python",
   "nbconvert_exporter": "python",
   "pygments_lexer": "ipython2",
   "version": "2.7.12"
  }
 },
 "nbformat": 4,
 "nbformat_minor": 1
}
